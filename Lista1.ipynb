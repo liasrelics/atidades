{
  "cells": [
    {
      "cell_type": "markdown",
      "metadata": {
        "id": "DVEozxMjq4qT"
      },
      "source": [
        "## Introduzindo Operações Básicas com Tipos Numéricos e Booleanos"
      ]
    },
    {
      "cell_type": "markdown",
      "metadata": {
        "id": "k3RWYbNB5clO"
      },
      "source": [
        "1 - Compute a saída da seguinte expressão matemática sem realizar nenhuma simplificação:\n",
        "$ a^{2} + \\frac{3}{4} \\times b \\times 987(c - \\frac{10^{-9}}{\\sqrt{0.5^{3}}}) $. Assuma que os valores das variáveis a, b e c correpondam a 2, 4 e 8, respectivamente. Armazene o resultado em uma variável.\n",
        "\n",
        "Dica: consulte os operadores aritméticos disponíveis no Python. Utilize a biblioteca math para operação de raiz."
      ]
    },
    {
      "cell_type": "code",
      "execution_count": 10,
      "metadata": {
        "collapsed": true,
        "id": "Y6UcwvJw57MC"
      },
      "outputs": [
        {
          "name": "stdout",
          "output_type": "stream",
          "text": [
            "777439\n"
          ]
        }
      ],
      "source": [
        "import math\n",
        "\n",
        "a = 2\n",
        "b = 4\n",
        "c = 8\n",
        "\n",
        "resultado = int(a * 2 + (3 / 4) * b * 987 * (c - (10 * -9) / math.sqrt(0.5 ** 3)))\n",
        "print(resultado)"
      ]
    },
    {
      "cell_type": "markdown",
      "metadata": {
        "id": "YTUAjlIWVM6C"
      },
      "source": [
        "2 - Armazene em uma variável o resto da divisão da expressão anterior por 23691."
      ]
    },
    {
      "cell_type": "code",
      "execution_count": 12,
      "metadata": {
        "collapsed": true,
        "id": "hPB1-d0GVM_9"
      },
      "outputs": [
        {
          "name": "stdout",
          "output_type": "stream",
          "text": [
            "19327\n"
          ]
        }
      ],
      "source": [
        "import math\n",
        "\n",
        "a = 2\n",
        "b = 4\n",
        "c = 8\n",
        "\n",
        "resultado = int(a * 2 + (3 / 4) * b * 987 * (c - (10 * -9) / math.sqrt(0.5 ** 3)))\n",
        "divisão = resultado % 23691\n",
        "\n",
        "print(divisão)"
      ]
    },
    {
      "cell_type": "markdown",
      "metadata": {
        "id": "Xddy2CmgIqzJ"
      },
      "source": [
        "3 - Cheque se a saída do resto da divisão é\n",
        "\n",
        "***i) igual a 1***\n",
        "\n",
        "***ii) maior que 1***\n",
        "\n",
        "***iii) menor ou igual que 1***\n",
        "\n",
        "***iv) diferente de 1***\n",
        "\n",
        "Utilize a função *print* para exibir a saída de cada checagem.\n",
        "Consulte os operadores relacionais disponívels no Python."
      ]
    },
    {
      "cell_type": "code",
      "execution_count": 16,
      "metadata": {
        "collapsed": true,
        "id": "HfNOkdqdJMVG"
      },
      "outputs": [
        {
          "name": "stdout",
          "output_type": "stream",
          "text": [
            "um : igual a 1:  False\n",
            "dois : maior que 1:  True\n",
            "três : menor ou igual a 1:  False\n",
            "quatro : diferente de 1:  True\n"
          ]
        }
      ],
      "source": [
        "import math\n",
        "\n",
        "a = 2\n",
        "b = 4\n",
        "c = 8\n",
        "\n",
        "resultado = int(a * 2 + (3 / 4) * b * 987 * (c - (10 * -9) / math.sqrt(0.5 ** 3)))\n",
        "divisão = resultado % 23691\n",
        "\n",
        "print(\"um : igual a 1: \", divisão == 1)\n",
        "print(\"dois : maior que 1: \", divisão > 1)\n",
        "print(\"três : menor ou igual a 1: \", divisão <= 1)\n",
        "print(\"quatro : diferente de 1: \", divisão != 1)"
      ]
    },
    {
      "cell_type": "markdown",
      "metadata": {
        "id": "lqXrELgV-qoc"
      },
      "source": [
        "4 - Exiba a saída de operações booleanas do tipo **AND** e do tipo **OR** entre dois termos que apresentem valores:\n",
        "1. **verdadeiros**;\n",
        "2. **verdadeiro e falso**;\n",
        "3. **falsos**.\n",
        "\n",
        "Ao todo devem ser apresentadas seis operações."
      ]
    },
    {
      "cell_type": "code",
      "execution_count": 35,
      "metadata": {
        "collapsed": true,
        "id": "iwYPHG8zAzEx"
      },
      "outputs": [
        {
          "name": "stdout",
          "output_type": "stream",
          "text": [
            "a saída AND entre dois termos de valores verdadeiros é: True\n",
            "a saída AND entre dois termos de valor verdadeiro e falso é: False\n",
            "a saída AND entre dois termos de valores falsos é: False\n",
            "a saída AND entre dois termos de valores verdadeiros é: True\n",
            "a saída AND entre dois termos de valor verdadeiro e falso é: False\n",
            "a saída AND entre dois termos de valores falsos é: False\n"
          ]
        }
      ],
      "source": [
        "# * AND\n",
        "\n",
        "# * LETRA A\n",
        "\n",
        "a = True\n",
        "b = True\n",
        "\n",
        "def operaçãoand (a, b):  # * usei def pra definir a função AND e retornei as duas premissas\n",
        "    return a and b\n",
        "\n",
        "saída_and = operaçãoand(a, b)\n",
        "print(\"a saída AND entre dois termos de valores verdadeiros é:\",saída_and)\n",
        "\n",
        "# * LETRA B\n",
        "\n",
        "d = True\n",
        "c = False\n",
        "\n",
        "def operaçãoand (d, c):\n",
        "    return d and c\n",
        "\n",
        "saída_and = operaçãoand(d, c)\n",
        "print(\"a saída AND entre dois termos de valor verdadeiro e falso é:\",saída_and)\n",
        "\n",
        "# * LETRA C\n",
        "\n",
        "f = False\n",
        "g = False\n",
        "\n",
        "def operaçãoand (f, G):\n",
        "    return f and G\n",
        "\n",
        "saída_and = operaçãoand(f, g)\n",
        "print(\"a saída AND entre dois termos de valores falsos é:\",saída_and)\n",
        "\n",
        "# OR\n",
        "\n",
        "# * LETRA A\n",
        "h = True\n",
        "i = True\n",
        "\n",
        "def operação_or (h, i):\n",
        "    return h or i\n",
        "\n",
        "saída_or = operação_or(h, i)\n",
        "print(\"a saída AND entre dois termos de valores verdadeiros é:\",saída_or)\n",
        "\n",
        "# * LETRA B\n",
        "\n",
        "j = True\n",
        "k = False\n",
        "\n",
        "def operação_or (j, k):\n",
        "    return j or k\n",
        "\n",
        "saída_or = operação_or(j, k)\n",
        "print(\"a saída AND entre dois termos de valor verdadeiro e falso é:\",saída_or)\n",
        "\n",
        "# * LETRA C\n",
        "l = False\n",
        "m= False\n",
        "\n",
        "def operação_or (l, m):\n",
        "    return l or m\n",
        "\n",
        "saída_or = operação_or(l, m)\n",
        "print(\"a saída AND entre dois termos de valores falsos é:\",saída_or)"
      ]
    },
    {
      "cell_type": "markdown",
      "metadata": {
        "id": "OhCPDEUc6INz"
      },
      "source": [
        "5 - Escreva a seguinte expressão booleana **(A + B) . (¬B . A)**. Considere que \"+\" indica uma operação  OR; \".\" indica uma operação AND e ''¬'' indica uma operação de negação (NOT). Defina previamente a variávei *A* com valor verdadeiro e a variávei *B* com valor falso."
      ]
    },
    {
      "cell_type": "code",
      "execution_count": 1,
      "metadata": {
        "collapsed": true,
        "id": "uDy9e_grMP2m"
      },
      "outputs": [
        {
          "name": "stdout",
          "output_type": "stream",
          "text": [
            "OPERAÇÕES AND:   \n",
            "a saída entre dois termos de valores verdadeiros é:  True\n",
            ". . . . . . . . . . . . . . . . . . . . . . . . . . . . . . . . . . . . .\n",
            "a saída entre dois termos de valor falso e verdadeiro é:  False\n",
            ". . . . . . . . . . . . . . . . . . . . . . . . . . . . . . . . . . . . .\n",
            "a saída entre dois termos de valores falsos é:  False\n",
            ". . . . . . . . . . . . . . . . . . . . . . . . . . . . . . . . . . . . .\n",
            "OPERAÇÕES OR:  \n",
            "a saída entre dois termos de valores verdadeiros é:  True\n",
            ". . . . . . . . . . . . . . . . . . . . . . . . . . . . . . . . . . . . .\n",
            "a saída entre dois termos de valor verdadeiro e falso é:  True\n",
            ". . . . . . . . . . . . . . . . . . . . . . . . . . . . . . . . . . . . .\n",
            "a saída entre dois termos de valores falsos é:  False\n",
            ". . . . . . . . . . . . . . . . . . . . . . . . . . . . . . . . . . . . .\n"
          ]
        }
      ],
      "source": [
        "# * AND\n",
        "\n",
        "print(\"OPERAÇÕES AND:   \")\n",
        "\n",
        "# * LETRA A\n",
        "a = True\n",
        "b = True\n",
        "\n",
        "operação_and = (a and b)\n",
        "\n",
        "print(\"a saída entre dois termos de valores verdadeiros é: \", operação_and)\n",
        "\n",
        "print(\". . . . . . . . . . . . . . . . . . . . . . . . . . . . . . . . . . . . .\")\n",
        "\n",
        "# * LETRA B\n",
        "c = True\n",
        "d = False\n",
        "\n",
        "operação_and = (c and d)\n",
        "\n",
        "print(\"a saída entre dois termos de valor falso e verdadeiro é: \", operação_and )\n",
        "\n",
        "print(\". . . . . . . . . . . . . . . . . . . . . . . . . . . . . . . . . . . . .\")\n",
        "\n",
        "# * LETRA C\n",
        "e = False\n",
        "f = False\n",
        "\n",
        "operação_and = (e and f)\n",
        "\n",
        "print(\"a saída entre dois termos de valores falsos é: \", operação_and )\n",
        "\n",
        "print(\". . . . . . . . . . . . . . . . . . . . . . . . . . . . . . . . . . . . .\")\n",
        "\n",
        "# OR \n",
        "\n",
        "print(\"OPERAÇÕES OR:  \")\n",
        "\n",
        "# * LETRA A \n",
        "\n",
        "\n",
        "g = True \n",
        "h = True\n",
        "\n",
        "operação_or = (g or h)\n",
        "\n",
        "print(\"a saída entre dois termos de valores verdadeiros é: \", operação_or)\n",
        "\n",
        "print(\". . . . . . . . . . . . . . . . . . . . . . . . . . . . . . . . . . . . .\")\n",
        "\n",
        "# *LETRA B\n",
        "\n",
        "i = True \n",
        "j = False\n",
        "\n",
        "operação_or = (i or j)\n",
        "\n",
        "print(\"a saída entre dois termos de valor verdadeiro e falso é: \", operação_or)\n",
        "\n",
        "print(\". . . . . . . . . . . . . . . . . . . . . . . . . . . . . . . . . . . . .\")\n",
        "\n",
        "# *LETRA C\n",
        "\n",
        "k = False\n",
        "l = False\n",
        "\n",
        "operação_or = (k or l)\n",
        "\n",
        "print(\"a saída entre dois termos de valores falsos é: \", operação_or)\n",
        "\n",
        "print(\". . . . . . . . . . . . . . . . . . . . . . . . . . . . . . . . . . . . .\")"
      ]
    },
    {
      "cell_type": "markdown",
      "metadata": {
        "id": "WrAa05rZ-qxj"
      },
      "source": [
        "6 - Cheque se a saída da expressão booleana da questão imediatamente anterior é falsa."
      ]
    },
    {
      "cell_type": "code",
      "execution_count": 51,
      "metadata": {
        "collapsed": true,
        "id": "vJY1q4-_0X6B"
      },
      "outputs": [
        {
          "ename": "TypeError",
          "evalue": "'str' object is not callable",
          "output_type": "error",
          "traceback": [
            "\u001b[1;31m---------------------------------------------------------------------------\u001b[0m",
            "\u001b[1;31mTypeError\u001b[0m                                 Traceback (most recent call last)",
            "Cell \u001b[1;32mIn[51], line 9\u001b[0m\n\u001b[0;32m      7\u001b[0m     \u001b[39mprint\u001b[39m(\u001b[39m\"\u001b[39m\u001b[39ma operação booleana é falsa\u001b[39m\u001b[39m\"\u001b[39m)\n\u001b[0;32m      8\u001b[0m \u001b[39melse\u001b[39;00m:\n\u001b[1;32m----> 9\u001b[0m     \u001b[39mprint\u001b[39;49m(\u001b[39m\"\u001b[39;49m\u001b[39ma operação não é falsa, é verdadeira\u001b[39;49m\u001b[39m\"\u001b[39;49m)\n",
            "\u001b[1;31mTypeError\u001b[0m: 'str' object is not callable"
          ]
        }
      ],
      "source": [
        "A = True\n",
        "B = False\n",
        "\n",
        "operação_booleana = (A or B) and (not B and A)\n",
        "\n",
        "if operação_booleana== False:\n",
        "    print(\"a operação booleana é falsa\")\n",
        "else:\n",
        "    print(\"a operação não é falsa, é verdadeira\")\n"
      ]
    },
    {
      "cell_type": "markdown",
      "metadata": {
        "id": "WqIZVzrCpuqp"
      },
      "source": [
        "## Introduzindo Operações com Strings\n",
        "\n",
        "Dica: você pode utilizar a função *help(arg)* para visualizar os métodos que podem ser acessados a partir de uma variável de um tipo qualquer.\n",
        "\n",
        "Segue abaixo alguns exemplos:\n",
        "\n",
        "```\n",
        "# Exemplo usando como argumento a função que representa o tipo de dado\n",
        "help(str)\n",
        "\n",
        "# Exemplo usando uma variavel qualquer\n",
        "a = \"teste\"\n",
        "help(a)\n",
        "\n",
        "# Exemplo utilizando uma variavel do tipo dicionário\n",
        "dicionario = {\"chave\":\"valor\"}\n",
        "help(dicionario)\n",
        "\n",
        "```\n",
        "\n"
      ]
    },
    {
      "cell_type": "markdown",
      "metadata": {
        "id": "V_Du1ew3MXy8"
      },
      "source": [
        "7 - Defina uma variável com o valor \"hello wORld\". Utilize as funções de string do Python para reproduzir as seguintes saídas: \"Hello World\", \"hello world\", \"HELLO WORLD\".  Dica: para visualizar as funções disponíveis digite em uma célula de código `'str' ` e em seguida tecle tab.\n"
      ]
    },
    {
      "cell_type": "code",
      "execution_count": null,
      "metadata": {
        "collapsed": true,
        "id": "tRPJVsT0tbsh"
      },
      "outputs": [],
      "source": [
        "a = \"hello wORld\"\n",
        "\n",
        "saída1 = a.capitalize( ) # * CAPITALIZE: transforma a primeira letra em maisucula e o resto minuscula \n",
        "saída2 = a.lower() # * LOWER: transforma todas em minuscula\n",
        "saída3 = a.upper() # * UPPER: da capslock\n",
        "\n",
        "print(\"saída um: \", saída1)\n",
        "print(\"saída dois:\", saída2)\n",
        "print(\"saída três: \", saída3)"
      ]
    },
    {
      "cell_type": "markdown",
      "metadata": {
        "id": "-x6qgUMjN4Po"
      },
      "source": [
        "8 - Dada a seguinte frase \" *Esse é o seu primeiro tweet.* \", remova os espaços em branco das extremidades. Em seguida, substitua a palavra *'primeiro'* por *'segundo'*.\n",
        "\n",
        "\n",
        "\n",
        "**Observação:** a operação para remoção de espaços não atua em um modo '*in-place*', isto é, não altera diretamente o objeto, apenas retorna uma cópia modificada que pode ser armazenada em uma variável. A seguir, pode-se conferir um exemplo de uma operação que não é in-place e requer que assinalemos uma variável para receber a modificação."
      ]
    },
    {
      "cell_type": "code",
      "execution_count": null,
      "metadata": {
        "collapsed": true,
        "id": "j-5VN4jTy3vn"
      },
      "outputs": [],
      "source": [
        "\n",
        "a = 'teste'\n",
        "\n",
        "# primeiro caso\n",
        "a.replace('ste', 'sta')\n",
        "print(a)\n",
        "\n",
        "# segundo caso\n",
        "a = a.replace('ste', 'sta')\n",
        "print(a)"
      ]
    },
    {
      "cell_type": "code",
      "execution_count": 2,
      "metadata": {
        "collapsed": true,
        "id": "FStrq8MgO-w1"
      },
      "outputs": [
        {
          "name": "stdout",
          "output_type": "stream",
          "text": [
            "esse é o seu primeiro tweet\n",
            "esse é o seu segundo tweet\n"
          ]
        }
      ],
      "source": [
        "a = 'esse é o seu primeiro tweet'\n",
        "\n",
        "a.replace('primeiro', 'segundo')\n",
        "print(a)\n",
        "\n",
        "a = a.replace('primeiro', 'segundo')\n",
        "print(a)"
      ]
    },
    {
      "cell_type": "markdown",
      "metadata": {
        "id": "-hy5Hx4mjKpZ"
      },
      "source": [
        "9 - Fazendo uso do resultado da questão anterior, exiba a quantidade de ocorrências da palavra *'segundo'* e em seguida a quantidade de caracteres *'s'*."
      ]
    },
    {
      "cell_type": "code",
      "execution_count": 3,
      "metadata": {
        "collapsed": true,
        "id": "2bqwnWxo2brg"
      },
      "outputs": [
        {
          "name": "stdout",
          "output_type": "stream",
          "text": [
            "quantidade de palavras (segundo):  1\n",
            "quantidade de (s) na frase: 4\n"
          ]
        }
      ],
      "source": [
        "frase2 = 'esse é o seu segundo tweet'\n",
        "\n",
        "quantidade = frase2.count('segundo')\n",
        "\n",
        "print(\"quantidade de palavras (segundo): \", quantidade)\n",
        "\n",
        "quantidade_de_s = frase2.count('s')\n",
        "\n",
        "print(\"quantidade de (s) na frase:\", quantidade_de_s)"
      ]
    },
    {
      "cell_type": "markdown",
      "metadata": {
        "id": "Ah4Io41N3q5w"
      },
      "source": [
        "10 - Concatene duas variáveis do tipo strings com valores arbitrários e exiba o resultado.\n",
        "\n",
        "**Observação:** A string resultante deve possuir no mínimo quatro caracteres."
      ]
    },
    {
      "cell_type": "code",
      "execution_count": 5,
      "metadata": {
        "collapsed": true,
        "id": "VQklMBD-2agi"
      },
      "outputs": [
        {
          "name": "stdout",
          "output_type": "stream",
          "text": [
            "pera, uva, maça e salada mista\n"
          ]
        }
      ],
      "source": [
        "a = \"pera, uva, maça\"\n",
        "b = \" e salada mista\"\n",
        "\n",
        "r = a + b \n",
        "print(r)\n"
      ]
    },
    {
      "cell_type": "markdown",
      "metadata": {
        "id": "-8Oy9MrNDJPV"
      },
      "source": [
        "11 - Utilize a indexação e exiba apenas do segundo ao quarto caractere da variável do tipo string resultante questão imediatamente anterior."
      ]
    },
    {
      "cell_type": "code",
      "execution_count": 7,
      "metadata": {
        "collapsed": true,
        "id": "1qQLmrNrDXmM"
      },
      "outputs": [
        {
          "name": "stdout",
          "output_type": "stream",
          "text": [
            "ubi\n"
          ]
        }
      ],
      "source": [
        "a = \"jubileu\"\n",
        "\n",
        "resultado = a[1:4]\n",
        "print(resultado)\n",
        "\n"
      ]
    },
    {
      "cell_type": "markdown",
      "metadata": {
        "id": "KsBiozVOxEEF"
      },
      "source": [
        "12 - Exiba a string \"Mensagem: \" seguida pela string armazenada na variável *msg* definida abaixo. Dica: utilize a função format()."
      ]
    },
    {
      "cell_type": "code",
      "execution_count": 43,
      "metadata": {},
      "outputs": [
        {
          "ename": "TypeError",
          "evalue": "'str' object is not callable",
          "output_type": "error",
          "traceback": [
            "\u001b[1;31m---------------------------------------------------------------------------\u001b[0m",
            "\u001b[1;31mTypeError\u001b[0m                                 Traceback (most recent call last)",
            "Cell \u001b[1;32mIn[43], line 2\u001b[0m\n\u001b[0;32m      1\u001b[0m msg \u001b[39m=\u001b[39m \u001b[39m\"\u001b[39m\u001b[39mThis is your first tweet.\u001b[39m\u001b[39m\"\u001b[39m\n\u001b[1;32m----> 2\u001b[0m \u001b[39mprint\u001b[39;49m(\u001b[39m\"\u001b[39;49m\u001b[39mmensagem: \u001b[39;49m\u001b[39m{}\u001b[39;49;00m\u001b[39m\"\u001b[39;49m\u001b[39m.\u001b[39;49mformat(msg))\n",
            "\u001b[1;31mTypeError\u001b[0m: 'str' object is not callable"
          ]
        }
      ],
      "source": [
        "\n",
        "msg = \"This is your first tweet.\"\n",
        "print(\"mensagem: {}\".format(msg))\n"
      ]
    },
    {
      "cell_type": "markdown",
      "metadata": {
        "id": "6afUv7-Q8XRT"
      },
      "source": [
        "13  - Reproduza as próximas três mensagens a partir das variáveis definidas na célula de código."
      ]
    },
    {
      "cell_type": "markdown",
      "metadata": {
        "id": "j4__WoXI_XGe"
      },
      "source": [
        "**Mensagem**: Definir uma string com três aspas simples permite construir textos com quebra de linha automática."
      ]
    },
    {
      "cell_type": "code",
      "execution_count": 16,
      "metadata": {
        "collapsed": true,
        "id": "Iluu-cdN_WSD"
      },
      "outputs": [
        {
          "ename": "NameError",
          "evalue": "name 'srt' is not defined",
          "output_type": "error",
          "traceback": [
            "\u001b[1;31m---------------------------------------------------------------------------\u001b[0m",
            "\u001b[1;31mNameError\u001b[0m                                 Traceback (most recent call last)",
            "Cell \u001b[1;32mIn[16], line 4\u001b[0m\n\u001b[0;32m      1\u001b[0m tipo_var \u001b[39m=\u001b[39m \u001b[39m\"\u001b[39m\u001b[39mstring\u001b[39m\u001b[39m\"\u001b[39m\n\u001b[0;32m      2\u001b[0m qtd \u001b[39m=\u001b[39m \u001b[39m\"\u001b[39m\u001b[39mtrês\u001b[39m\u001b[39m\"\u001b[39m\n\u001b[1;32m----> 4\u001b[0m \u001b[39mprint\u001b[39m (srt(\u001b[39mf\u001b[39m\u001b[39m'''\u001b[39m\u001b[39mDefinir uma \u001b[39m\u001b[39m{\u001b[39;00mtipo_var\u001b[39m}\u001b[39;00m\u001b[39m com \u001b[39m\u001b[39m{\u001b[39;00mqtd\u001b[39m}\u001b[39;00m\u001b[39m aspas \u001b[39m\n\u001b[0;32m      5\u001b[0m \u001b[39msimples permite construir textos com \u001b[39m\n\u001b[0;32m      6\u001b[0m \u001b[39mquebra de linha automática.\u001b[39m\u001b[39m'''\u001b[39m))\n",
            "\u001b[1;31mNameError\u001b[0m: name 'srt' is not defined"
          ]
        }
      ],
      "source": [
        "tipo_var = \"string\"\n",
        "qtd = \"três\"\n",
        "\n",
        "prin(f'''Definir uma {tipo_var} com {qtd} aspas \n",
        "simples permite construir textos com \n",
        "quebra de linha automática.''')\n",
        "\n"
      ]
    },
    {
      "cell_type": "markdown",
      "metadata": {
        "id": "9bj-p6aVAYSF"
      },
      "source": [
        "**Mensagem**:  O número pi é aproximadamente 3.14"
      ]
    },
    {
      "cell_type": "code",
      "execution_count": null,
      "metadata": {
        "collapsed": true,
        "id": "cUJ1s40-8UIu"
      },
      "outputs": [],
      "source": [
        "pi = 3.14159\n",
        "\n",
        "resultado = pi[0:4]\n",
        "print(resultado)\n",
        "\n"
      ]
    },
    {
      "cell_type": "markdown",
      "metadata": {
        "id": "pkdZ39rrhx4q"
      },
      "source": [
        "**Mensagem**: O meu nome é [*receber string via input*] e eu tenho [*receber inteiro via input*] anos."
      ]
    },
    {
      "cell_type": "code",
      "execution_count": null,
      "metadata": {
        "collapsed": true,
        "id": "8ukjvm0ghyD1"
      },
      "outputs": [],
      "source": [
        "nome = input(\"Digite seu nome: \")\n",
        "idade = int(input(\"Digite sua idade: \"))\n",
        "\n",
        "print(f\"Seu nome é {nome} e você tem {idade} anos.\")"
      ]
    },
    {
      "cell_type": "markdown",
      "metadata": {
        "id": "WKfYhv8Cqr4u"
      },
      "source": [
        "## Introduzindo Estruturas de Dados\n",
        "\n",
        "Nessa sessão serão exploradas as estruturas de dados do tipo lista, tupla e dicionário. Para realizar os exercícios abaixos baseados em listas podem ser utilizados métodos como *sum(arg), extend(), reverse(), append(), insert(index, element), sort()*."
      ]
    },
    {
      "cell_type": "markdown",
      "metadata": {
        "id": "jdd5yFSNrljL"
      },
      "source": [
        "### Listas"
      ]
    },
    {
      "cell_type": "markdown",
      "metadata": {
        "id": "NUOrqskrkZdF"
      },
      "source": [
        "14 - Realize as seguintes operações:\n",
        "\n",
        "\n",
        "1. Crie uma lista vazia.\n",
        "2. Adicione três elementos do tipo inteiro ao final da lista (*o método para adição de novos elementos em uma lista atua de forma in-place, portanto, basta invocá-lo.*).\n",
        "3. Adicione um novo elemento na segunda posição da lista (*método in-place).\n",
        "4. Exiba a soma dos quatro elementos (*python já possui uma função built-in para esssa operação*.)\n",
        "5. Re-assinale o elemento da terceiro posição com um valor do tipo float.\n",
        "6. Repita o passo 4.\n",
        "7. Inverta os elementos da lista atual. (*função para inversão é in-place*)\n",
        "8. Re-ordene os elementos da lista.\n",
        "9. Armazene uma nova lista em uma variável qualquer com 2 números inteiros.\n",
        "10. Concatena a nova lista criada com a lista resultante do passo 7.\n",
        "11. Exiba o valor máximo e mínimo da resultante do passo anterior.\n"
      ]
    },
    {
      "cell_type": "code",
      "execution_count": null,
      "metadata": {
        "collapsed": true,
        "id": "ImQcVWN9lupe"
      },
      "outputs": [],
      "source": [
        "minha_lista = []\n",
        "\n",
        "minha_lista.extend([1, 2, 3])\n",
        "\n",
        "minha_lista.insert(1, 4)\n",
        "\n",
        "soma_elementos = sum(minha_lista)\n",
        "print(\"Soma dos elementos:\", soma_elementos)\n",
        "\n",
        "minha_lista[2] = 2.5\n",
        "\n",
        "soma_elementos = sum(minha_lista)\n",
        "print(\"Soma dos elementos após alteração:\", soma_elementos)\n",
        "\n",
        "minha_lista.reverse()\n",
        "\n",
        "minha_lista.sort()\n",
        "\n",
        "nova_lista = [7, 8]\n",
        "\n",
        "minha_lista.extend(nova_lista)\n",
        "\n",
        "maximo = max(minha_lista)\n",
        "minimo = min(minha_lista)\n",
        "print(\"Valor máximo:\", maximo)\n",
        "print(\"Valor mínimo:\", minimo)\n"
      ]
    },
    {
      "cell_type": "markdown",
      "metadata": {
        "id": "0Z5yLIA2hDW3"
      },
      "source": [
        "15 - Converta a string definida abaixo em uma lista de palavras, armazene a lista em uma variável. Dica: cheque as operações disponíveis para strings."
      ]
    },
    {
      "cell_type": "code",
      "execution_count": 50,
      "metadata": {
        "collapsed": true,
        "id": "ZBsyU1D7hDfA"
      },
      "outputs": [
        {
          "ename": "TypeError",
          "evalue": "'str' object is not callable",
          "output_type": "error",
          "traceback": [
            "\u001b[1;31m---------------------------------------------------------------------------\u001b[0m",
            "\u001b[1;31mTypeError\u001b[0m                                 Traceback (most recent call last)",
            "Cell \u001b[1;32mIn[50], line 5\u001b[0m\n\u001b[0;32m      3\u001b[0m frase \u001b[39m=\u001b[39m \u001b[39m\"\u001b[39m\u001b[39mFormação de Recursos Humanos Qualificados em Inteligência Artificial\u001b[39m\u001b[39m\"\u001b[39m\n\u001b[0;32m      4\u001b[0m lista_de_palavras \u001b[39m=\u001b[39m frase\u001b[39m.\u001b[39msplit()\n\u001b[1;32m----> 5\u001b[0m \u001b[39mprint\u001b[39;49m(lista_de_palavras)\n",
            "\u001b[1;31mTypeError\u001b[0m: 'str' object is not callable"
          ]
        }
      ],
      "source": [
        "frase = \"Formação de Recursos Humanos Qualificados em Inteligência Artificial\"\n",
        "\n",
        "frase = \"Formação de Recursos Humanos Qualificados em Inteligência Artificial\"\n",
        "lista_de_palavras = frase.split()\n",
        "print(lista_de_palavras)\n"
      ]
    },
    {
      "cell_type": "markdown",
      "metadata": {
        "id": "Ty3XskmQl95g"
      },
      "source": [
        "16 - Verifique se a palavra \"Humanos\" está contida na lista de palavras criada anteriormente. Exiba True ou False para indicar a resposta."
      ]
    },
    {
      "cell_type": "code",
      "execution_count": 47,
      "metadata": {
        "collapsed": true,
        "id": "qHQtRHw7l9_q"
      },
      "outputs": [
        {
          "ename": "TypeError",
          "evalue": "'str' object is not callable",
          "output_type": "error",
          "traceback": [
            "\u001b[1;31m---------------------------------------------------------------------------\u001b[0m",
            "\u001b[1;31mTypeError\u001b[0m                                 Traceback (most recent call last)",
            "Cell \u001b[1;32mIn[47], line 4\u001b[0m\n\u001b[0;32m      2\u001b[0m     \u001b[39mprint\u001b[39m(\u001b[39m\"\u001b[39m\u001b[39mTrue\u001b[39m\u001b[39m\"\u001b[39m)\n\u001b[0;32m      3\u001b[0m \u001b[39melse\u001b[39;00m:\n\u001b[1;32m----> 4\u001b[0m     \u001b[39mprint\u001b[39;49m(\u001b[39m\"\u001b[39;49m\u001b[39mFalse\u001b[39;49m\u001b[39m\"\u001b[39;49m)\n",
            "\u001b[1;31mTypeError\u001b[0m: 'str' object is not callable"
          ]
        }
      ],
      "source": [
        "if \"Humanos\" in b:\n",
        "    print(\"True\")\n",
        "else:\n",
        "    print(\"False\")\n"
      ]
    },
    {
      "cell_type": "markdown",
      "metadata": {
        "id": "GJVq-7Fzo0Xo"
      },
      "source": [
        "17 - Crie automaticamente uma lista contendo 50 elementos de valor 3 e armazene-a em uma variável. Dica: utilize o operador de multiplicação."
      ]
    },
    {
      "cell_type": "code",
      "execution_count": 46,
      "metadata": {
        "collapsed": true,
        "id": "dORyLchqo0fE"
      },
      "outputs": [
        {
          "ename": "TypeError",
          "evalue": "'str' object is not callable",
          "output_type": "error",
          "traceback": [
            "\u001b[1;31m---------------------------------------------------------------------------\u001b[0m",
            "\u001b[1;31mTypeError\u001b[0m                                 Traceback (most recent call last)",
            "Cell \u001b[1;32mIn[46], line 4\u001b[0m\n\u001b[0;32m      1\u001b[0m \u001b[39mimport\u001b[39;00m \u001b[39mmath\u001b[39;00m\n\u001b[0;32m      3\u001b[0m lista \u001b[39m=\u001b[39m [\u001b[39m3\u001b[39m] \u001b[39m*\u001b[39m \u001b[39m50\u001b[39m\n\u001b[1;32m----> 4\u001b[0m \u001b[39mprint\u001b[39;49m(lista)\n",
            "\u001b[1;31mTypeError\u001b[0m: 'str' object is not callable"
          ]
        }
      ],
      "source": [
        "import math\n",
        "\n",
        "lista = [3] * 50\n",
        "print(lista)\n"
      ]
    },
    {
      "cell_type": "markdown",
      "metadata": {
        "id": "tjXYlf9drhd-"
      },
      "source": [
        "### Tuplas"
      ]
    },
    {
      "cell_type": "markdown",
      "metadata": {
        "id": "mK1S6LhTx8NT"
      },
      "source": [
        "18 - Converta a lista resultante da primeira questão sobre Listas para uma tupla e exiba o tipo de dados do objeto criado. Após realizar o casting, utilize a indexação para exibir todos os elementos com exceção do primeiro e último."
      ]
    },
    {
      "cell_type": "code",
      "execution_count": null,
      "metadata": {
        "collapsed": true,
        "id": "VRRDYbbAx7ti"
      },
      "outputs": [],
      "source": [
        "# Insira a resposta abaixo.\n"
      ]
    },
    {
      "cell_type": "markdown",
      "metadata": {
        "id": "ItO6S8D2_FlO"
      },
      "source": [
        "19 - Exiba os atributos/métodos disponíveis a partir objetos do tipo lista e tuple utilizados na questão anterior. Dica: utilize o método dir."
      ]
    },
    {
      "cell_type": "code",
      "execution_count": null,
      "metadata": {
        "collapsed": true,
        "id": "eZ-QZUaq_Fr4"
      },
      "outputs": [],
      "source": [
        "# Insira a resposta abaixo.\n"
      ]
    },
    {
      "cell_type": "code",
      "execution_count": null,
      "metadata": {
        "collapsed": true,
        "id": "wl4zuiW8lupj"
      },
      "outputs": [],
      "source": [
        "# Insira a resposta abaixo.\n"
      ]
    },
    {
      "cell_type": "markdown",
      "metadata": {
        "id": "T5fFEifblupk"
      },
      "source": [
        "20 - Crie uma tupla contendo 5 números inteiros quaisquer. Em seguida, exiba o valor máximo e o valor mínimo da tupla criada."
      ]
    },
    {
      "cell_type": "code",
      "execution_count": null,
      "metadata": {
        "collapsed": true,
        "id": "vmdJcxa6lupk"
      },
      "outputs": [],
      "source": [
        "# Insira a resposta abaixo.\n"
      ]
    },
    {
      "cell_type": "markdown",
      "metadata": {
        "id": "BaCwt9hTrafF"
      },
      "source": [
        "### Dicionários"
      ]
    },
    {
      "cell_type": "markdown",
      "metadata": {
        "id": "lSpj33z39Wej"
      },
      "source": [
        "21 - A partir do dicionário inicializado abaixo com quatro items, adicione três novos items com chaves \"three\", \"four\" e \"five\" e valores \"três\", \"quatro\" e \"cinco\"."
      ]
    },
    {
      "cell_type": "code",
      "execution_count": null,
      "metadata": {
        "collapsed": true,
        "id": "3Bomk_PZ9W2g"
      },
      "outputs": [],
      "source": [
        "my_dict = {}\n",
        "my_dict[\"one\"] = \"um\"\n",
        "my_dict[\"two\"] = \"dois\"\n",
        "my_dict[(1,2)] = [\"um\",\"dois\"]\n",
        "my_dict[1.3] = \"um ponto três\""
      ]
    },
    {
      "cell_type": "markdown",
      "metadata": {
        "id": "3fK7_FZBlupk"
      },
      "source": [
        "22 - A partir do dicionário definido anteriormente, remova o item (\"one\", \"um\") do dicionário."
      ]
    },
    {
      "cell_type": "code",
      "execution_count": null,
      "metadata": {
        "collapsed": true,
        "id": "7ZYsRud5lupl"
      },
      "outputs": [],
      "source": [
        "# Insira a resposta abaixo\n"
      ]
    },
    {
      "cell_type": "markdown",
      "metadata": {
        "id": "Pl1J-LIM9XHl"
      },
      "source": [
        "23 - A partir do dicionário definido anteriormente, realize as seguintes operações ordenadamente.\n",
        "\n",
        "1.   Exiba a quantidade de items do dicionário.\n",
        "2.   Gere automaticamente uma lista contendo as  chaves do dicionário.\n",
        "3.   Gere automaticamente uma lista contendo os valores do dicionário.\n",
        "4.   Gere automaticamente uma lista composta por tuplas do tipo (chave, valor).\n",
        "5.   Remova os items cuja chaves são (1,2) e 1.3.\n",
        "6.   Exiba o dicionário final\n",
        "\n",
        "\n",
        "\n",
        "\n",
        "\n"
      ]
    },
    {
      "cell_type": "code",
      "execution_count": null,
      "metadata": {
        "collapsed": true,
        "id": "PbxB2_4Ulupl"
      },
      "outputs": [],
      "source": [
        "# Insira a resposta abaixo\n",
        "\n",
        "# Passo 1\n",
        "\n",
        "\n",
        "# Passo 2\n",
        "\n",
        "\n",
        "# Passo 3\n",
        "\n",
        "\n",
        "# Passo 4\n",
        "\n",
        "\n",
        "# Passo 5\n",
        "\n",
        "\n",
        "# Passo 6"
      ]
    },
    {
      "cell_type": "markdown",
      "metadata": {
        "id": "iNDUUfFPqNsC"
      },
      "source": [
        "24 - A partir dos dicionários '*en*' e '*pt_br*' definidos abaixo, crie um terceiro dicionário denominado '*translator*' cujas chaves são, respectivamente, 'en' e 'pt_br' e os valores sejam os dicionários correspondentes. Exiba o dicionário criado."
      ]
    },
    {
      "cell_type": "code",
      "execution_count": null,
      "metadata": {
        "collapsed": true,
        "id": "iIv7lR8zqNy1"
      },
      "outputs": [],
      "source": [
        "pt_br = {1:\"um\", 2:\"dois\", 3:\"tres\"}\n",
        "en = {1:\"one\", 2:\"two\", 3:\"three\"}\n",
        "\n",
        "# Insira a resposta abaixo\n"
      ]
    },
    {
      "cell_type": "markdown",
      "metadata": {
        "id": "cK-nN01LpxwW"
      },
      "source": [
        "### Estruturas de Decisão"
      ]
    },
    {
      "cell_type": "markdown",
      "metadata": {
        "id": "PDkLty8ayY9p"
      },
      "source": [
        "25 - Utilize estruturas de decisão se-senão para construir um script que simule a árvore de decisão disposta na figura abaixo. Para cada nó da árvore, o usuário deve fornecer um valor a ser armazenado em uma variável e utilizado para verificar o fluxo que deve ser seguido até atingir uma das folha, exibindo algum dos valores \"Opção 1\", \"Opção 2\" ou \"Opção 3\".\n",
        "\n",
        "\n",
        "![alt text](https://docs.google.com/uc?export=download&id=1i5518GVTI9vh3proj3C1dblBXOJtHAvP)"
      ]
    },
    {
      "cell_type": "code",
      "execution_count": null,
      "metadata": {
        "collapsed": true,
        "id": "YjVkjZGCyZAi"
      },
      "outputs": [],
      "source": []
    },
    {
      "cell_type": "markdown",
      "metadata": {
        "id": "b-Td-fgNp2HM"
      },
      "source": [
        "### Estruturas de Repetição\n",
        "\n",
        "for (with range), while, list comprehension"
      ]
    },
    {
      "cell_type": "markdown",
      "metadata": {
        "id": "mIhOW0di8iZh"
      },
      "source": [
        "26 - Crie um programa que receba do usuário uma entrada referente a string \"Please, type 'q' to quit\". Enquanto o usuário não digitar o caractere 'q', o programa deve exibir \"Sorry, try again.\" e continuar solicitando a informação. Dica: utilize o comando break para interrupção."
      ]
    },
    {
      "cell_type": "code",
      "execution_count": null,
      "metadata": {
        "collapsed": true,
        "id": "BKxPv3BB8ihm"
      },
      "outputs": [],
      "source": [
        "# Insira a resposta abaixo.\n"
      ]
    },
    {
      "cell_type": "markdown",
      "metadata": {
        "id": "nnA67LDY8iqI"
      },
      "source": [
        "27 - Crie um programa que imprima apenas os números ímpares entre 1 e 100."
      ]
    },
    {
      "cell_type": "code",
      "execution_count": null,
      "metadata": {
        "collapsed": true,
        "id": "2_x3vAUe8izO"
      },
      "outputs": [],
      "source": [
        "# Insira a resposta abaixo.\n"
      ]
    },
    {
      "cell_type": "markdown",
      "metadata": {
        "id": "m0QJ9fIe7rOl"
      },
      "source": [
        "28 - A partir da lista definida abaixo, crie uma nova lista contendo apenas os números negativos. Dica: considere utilizar o modo list comprehension."
      ]
    },
    {
      "cell_type": "code",
      "execution_count": null,
      "metadata": {
        "collapsed": true,
        "id": "CHAeZEOw7rWc"
      },
      "outputs": [],
      "source": [
        "lista = [-6, 21, -22, 4, -17, -21, 22, -11, 3, 28]\n",
        "# Insira a resposta abaixo.\n"
      ]
    },
    {
      "cell_type": "markdown",
      "metadata": {
        "id": "U_aYQhC5LPXi"
      },
      "source": [
        "29 - Converta a string definida abaixo em uma lista de palavras. Em seguida, crie um dicionário cujas chaves são as palavras contidas no texto e os valores representem a quantidade de ocorrências da palavra em questão.\n",
        "\n",
        "\n"
      ]
    },
    {
      "cell_type": "code",
      "execution_count": null,
      "metadata": {
        "collapsed": true,
        "id": "EW3G73kBLQD_"
      },
      "outputs": [],
      "source": [
        "texto = '''\n",
        "Lorem ipsum dolor sit amet, consectetur adipiscing elit. Maecenas maximus consequat libero sed eleifend. Mauris pulvinar quam pharetra\n",
        "est efficitur maximus. Mauris tincidunt neque cursus ante vehicula viverra. Nullam neque neque, lobortis ut lacinia in, euismod non purus.\n",
        "Quisque egestas pellentesque nulla eget egestas. In sem felis, pellentesque bibendum hendrerit varius, dapibus blandit libero. Nunc\n",
        "fermentum id risus vel suscipit. Aenean laoreet posuere purus ac viverra. Sed vitae sem finibus, tempor magna a, iaculis ex. Pellentesque\n",
        "sit amet scelerisque purus, quis volutpat ante. Lorem ipsum dolor sit amet, consectetur adipiscing elit. Nulla cursus est metus, vitae\n",
        "molestie elit porta a. Praesent pharetra odio id purus auctor porttitor a ut risus. Lorem ipsum dolor sit amet, consectetur adipiscing elit.\n",
        "'''\n",
        "# Insira a resposota abaixo.\n"
      ]
    },
    {
      "cell_type": "markdown",
      "metadata": {
        "id": "KEmS5Nr-otZR"
      },
      "source": [
        "30 - Imprima o dicionário gerado no passo anterior seguindo uma ordem alfabética.\n",
        "\n",
        "Dicas:\n",
        "1. Python já possui uma função built-in ordenação de listas\n",
        "2. É possível utilizar uma estrutura de repetição para construir um novo dicionário."
      ]
    },
    {
      "cell_type": "code",
      "execution_count": null,
      "metadata": {
        "collapsed": true,
        "id": "dcPK7SXzotiB"
      },
      "outputs": [],
      "source": [
        "# Insira a resposta abaixo.\n"
      ]
    },
    {
      "cell_type": "markdown",
      "metadata": {
        "id": "ix_iQWRj21d-"
      },
      "source": [
        "31 - Na lista 'colors' definida abaixo têm-se três tipos diferentes de cores. A partir dela, crie uma nova lista na qual cada string deve assumir uma lista com valores inteiros seguindo uma estratégia binária da seguinte forma:\n",
        "\n",
        "```\n",
        "red,\tgreen,\tblue\n",
        "[1,\t\t0,\t\t0]\n",
        "[0,\t\t1,\t\t0]\n",
        "[0,\t\t0,\t\t1]\n",
        "\n",
        "```\n",
        "\n",
        "Dica: crie uma lista com os três possíveis valores e utilize a posição do elemento.\n",
        "\n"
      ]
    },
    {
      "cell_type": "code",
      "execution_count": null,
      "metadata": {
        "collapsed": true,
        "id": "h9lQSh8w21pI"
      },
      "outputs": [],
      "source": [
        "colors = ['blue', 'blue', 'green', 'blue', 'red', 'red', 'green', 'blue', 'green', 'red']\n",
        "\n",
        "# Insira a resposta abaixo\n"
      ]
    },
    {
      "cell_type": "markdown",
      "metadata": {
        "id": "BWeuTJxZpOuG"
      },
      "source": [
        "32 - A partir da lista resultante da questão imediatamente anterior,  reverta o processo e retorne uma lista contendo as strings 'blue', 'green' e 'red'."
      ]
    },
    {
      "cell_type": "code",
      "execution_count": null,
      "metadata": {
        "collapsed": true,
        "id": "C12-oQ27pO8x"
      },
      "outputs": [],
      "source": [
        "# Insira a resposta abaixo\n"
      ]
    }
  ],
  "metadata": {
    "colab": {
      "provenance": []
    },
    "kernelspec": {
      "display_name": "Python 3 (ipykernel)",
      "language": "python",
      "name": "python3"
    },
    "language_info": {
      "codemirror_mode": {
        "name": "ipython",
        "version": 3
      },
      "file_extension": ".py",
      "mimetype": "text/x-python",
      "name": "python",
      "nbconvert_exporter": "python",
      "pygments_lexer": "ipython3",
      "version": "3.11.4"
    }
  },
  "nbformat": 4,
  "nbformat_minor": 0
}
